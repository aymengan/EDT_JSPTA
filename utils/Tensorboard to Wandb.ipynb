{
 "cells": [
  {
   "cell_type": "code",
   "execution_count": 1,
   "id": "3d5bfc89",
   "metadata": {},
   "outputs": [],
   "source": [
    "import wandb\n",
    "import pandas as pd\n",
    "import glob\n",
    "import os\n",
    "import yaml\n",
    "import numpy as np"
   ]
  },
  {
   "cell_type": "code",
   "execution_count": 2,
   "id": "3500402e",
   "metadata": {},
   "outputs": [],
   "source": [
    "#Directory with .csv and .yaml files\n",
    "root_dir = r\"C:\\Users\\lfcas\\Documents\\Thesis Paper\\ma_casas\\results\\9x3x2\\9x3x2_ins_0\""
   ]
  },
  {
   "cell_type": "code",
   "execution_count": 3,
   "id": "6f87eb62",
   "metadata": {
    "scrolled": true
   },
   "outputs": [
    {
     "name": "stderr",
     "output_type": "stream",
     "text": [
      "Failed to detect the name of this notebook, you can set it manually with the WANDB_NOTEBOOK_NAME environment variable to enable code saving.\n",
      "C:\\Users\\lfcas\\.conda\\envs\\unity_rl\\lib\\site-packages\\IPython\\html.py:14: ShimWarning: The `IPython.html` package has been deprecated since IPython 4.0. You should import from `notebook` instead. `IPython.html.widgets` has moved to `ipywidgets`.\n",
      "  \"`IPython.html.widgets` has moved to `ipywidgets`.\", ShimWarning)\n",
      "\u001b[34m\u001b[1mwandb\u001b[0m: Currently logged in as: \u001b[33mhuataran\u001b[0m (\u001b[33mma_casas\u001b[0m). Use \u001b[1m`wandb login --relogin`\u001b[0m to force relogin\n"
     ]
    },
    {
     "data": {
      "text/html": [
       "wandb version 0.13.5 is available!  To upgrade, please run:\n",
       " $ pip install wandb --upgrade"
      ],
      "text/plain": [
       "<IPython.core.display.HTML object>"
      ]
     },
     "metadata": {},
     "output_type": "display_data"
    },
    {
     "data": {
      "text/html": [
       "Tracking run with wandb version 0.13.3"
      ],
      "text/plain": [
       "<IPython.core.display.HTML object>"
      ]
     },
     "metadata": {},
     "output_type": "display_data"
    },
    {
     "data": {
      "text/html": [
       "Run data is saved locally in <code>C:\\Users\\lfcas\\Documents\\Thesis Paper\\ma_casas\\wandb\\run-20221109_210352-1gxf42pt</code>"
      ],
      "text/plain": [
       "<IPython.core.display.HTML object>"
      ]
     },
     "metadata": {},
     "output_type": "display_data"
    },
    {
     "data": {
      "text/html": [
       "Syncing run <strong><a href=\"https://wandb.ai/ma_casas/ma_casas/runs/1gxf42pt\" target=\"_blank\">9x3x2_ins_0</a></strong> to <a href=\"https://wandb.ai/ma_casas/ma_casas\" target=\"_blank\">Weights & Biases</a> (<a href=\"https://wandb.me/run\" target=\"_blank\">docs</a>)<br/>"
      ],
      "text/plain": [
       "<IPython.core.display.HTML object>"
      ]
     },
     "metadata": {},
     "output_type": "display_data"
    }
   ],
   "source": [
    "# Load .yaml\n",
    "config =  yaml.load(open(os.path.join(root_dir, \"configuration.yaml\")), Loader=yaml.Loader)\n",
    "\n",
    "# Initialize Run\n",
    "run = wandb.init(\n",
    "    project = \"ma_casas\",\n",
    "    tags = [\"9x3x2\", \"Instance 0\"],\n",
    "    name= \"9x3x2_ins_0\",\n",
    "    config = config,\n",
    "    settings=wandb.Settings(_disable_stats=True),\n",
    ")"
   ]
  },
  {
   "cell_type": "code",
   "execution_count": null,
   "id": "2d749207",
   "metadata": {},
   "outputs": [],
   "source": [
    "# Load .csv files\n",
    "all_files = glob.glob(os.path.join(root_dir, \"*.csv\")) \n",
    "dfs = list()\n",
    "df = pd.read_csv(all_files[0])\n",
    "df = df.rename(columns ={\"Value\": all_files[0].split(\"tag-\")[-1][:-4]})\n",
    "\n",
    "for f in all_files[1:]:\n",
    "    data = pd.read_csv(f)\n",
    "    data = data.rename(columns={\"Value\": f.split(\"tag-\")[-1][:-4]})\n",
    "    del data [\"Wall time\"]\n",
    "    df = df.merge(data, how=\"left\", on=\"Step\")\n",
    "\n",
    "\n",
    "# Log Data\n",
    "df.reset_index()\n",
    "keys = df.keys()\n",
    "\n",
    "for index, row in df.iterrows():\n",
    "    for key in keys:\n",
    "        if(not np.isnan(row[key])):\n",
    "            run.log({key: row[key]},step = int(row[\"Step\"]))\n",
    "\n",
    "df.reset_index()\n",
    "\n",
    "# Log Table with original data\n",
    "table = wandb.Table(dataframe = df)\n",
    "run.log({\"Original Data\": table})\n",
    "\n",
    "    "
   ]
  },
  {
   "cell_type": "code",
   "execution_count": null,
   "id": "41e86d7d",
   "metadata": {},
   "outputs": [],
   "source": [
    "run.finish()"
   ]
  },
  {
   "cell_type": "code",
   "execution_count": null,
   "id": "9d72b905",
   "metadata": {},
   "outputs": [],
   "source": []
  },
  {
   "cell_type": "code",
   "execution_count": null,
   "id": "7b3bf646",
   "metadata": {},
   "outputs": [],
   "source": []
  },
  {
   "cell_type": "code",
   "execution_count": null,
   "id": "2faf131d",
   "metadata": {},
   "outputs": [],
   "source": []
  },
  {
   "cell_type": "code",
   "execution_count": null,
   "id": "9aee38fc",
   "metadata": {},
   "outputs": [],
   "source": []
  },
  {
   "cell_type": "code",
   "execution_count": null,
   "id": "111df2e1",
   "metadata": {},
   "outputs": [],
   "source": []
  },
  {
   "cell_type": "code",
   "execution_count": null,
   "id": "4ccd62f4",
   "metadata": {},
   "outputs": [],
   "source": []
  },
  {
   "cell_type": "code",
   "execution_count": null,
   "id": "e7227503",
   "metadata": {},
   "outputs": [],
   "source": []
  },
  {
   "cell_type": "code",
   "execution_count": null,
   "id": "d3d43265",
   "metadata": {},
   "outputs": [],
   "source": []
  },
  {
   "cell_type": "code",
   "execution_count": null,
   "id": "bed075f4",
   "metadata": {},
   "outputs": [],
   "source": []
  },
  {
   "cell_type": "code",
   "execution_count": null,
   "id": "db3e3a70",
   "metadata": {},
   "outputs": [],
   "source": []
  },
  {
   "cell_type": "code",
   "execution_count": null,
   "id": "b572629c",
   "metadata": {},
   "outputs": [],
   "source": []
  },
  {
   "cell_type": "code",
   "execution_count": null,
   "id": "632721f5",
   "metadata": {},
   "outputs": [],
   "source": []
  }
 ],
 "metadata": {
  "kernelspec": {
   "display_name": "Python 3 (ipykernel)",
   "language": "python",
   "name": "python3"
  },
  "language_info": {
   "codemirror_mode": {
    "name": "ipython",
    "version": 3
   },
   "file_extension": ".py",
   "mimetype": "text/x-python",
   "name": "python",
   "nbconvert_exporter": "python",
   "pygments_lexer": "ipython3",
   "version": "3.7.13"
  }
 },
 "nbformat": 4,
 "nbformat_minor": 5
}
